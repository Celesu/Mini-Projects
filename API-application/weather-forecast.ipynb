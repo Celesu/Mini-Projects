{
 "cells": [
  {
   "cell_type": "code",
   "execution_count": 1,
   "metadata": {},
   "outputs": [],
   "source": [
    "import requests\n",
    "import datetime\n",
    "def getDailyForecast(city, countryCode = \"ID\", APIKey = \"a58e03ed985d149c127d4a6dff22bde1\"):\n",
    "    baseURL = f\"http://api.openweathermap.org/data/2.5/forecast?q={city}, {countryCode}&appid={APIKey}\"\n",
    "    response = requests.get(baseURL)\n",
    "\n",
    "    if response.status_code == 200:\n",
    "        myDict = {}\n",
    "        for day_i in response.json()['list']:\n",
    "            today = day_i['dt_txt'].split()[0]\n",
    "            today = datetime.datetime.strptime(today, \"%Y-%m-%d\").strftime(\"%a, %d %b %Y\")\n",
    "            if today not in myDict:\n",
    "                myDict[today] = [[],[]]\n",
    "            myDict[today][0].append(day_i['main']['temp'])\n",
    "            myDict[today][1].append(day_i['weather'][0]['description'])\n",
    "        \n",
    "        print(f\"Weather Forecast of {city}:\")\n",
    "        for date in myDict:\n",
    "            # count the average temperature at the day\n",
    "            avgTemp = round((sum(myDict[date][0])/len(myDict[date][0])) - 273.15, 2)\n",
    "            \n",
    "            # get what will happen at the day\n",
    "            mostlyWill = max(set(myDict[date][1]), key=myDict[date][1].count)\n",
    "            print(f\"{date}: {avgTemp}°C, mostly will {mostlyWill}.\")\n",
    "        return myDict\n",
    "    else:\n",
    "        print(\"Please try again later\")\n",
    "        print(f\"Error caused by {response.json()['message']}\")\n",
    "\n",
    "def getHourlyForecast(city, n_day = 5, countryCode = 'ID', APIKey = \"a58e03ed985d149c127d4a6dff22bde1\"):\n",
    "    baseURL = f\"http://api.openweathermap.org/data/2.5/forecast?q={city}, {countryCode}&appid={APIKey}\"\n",
    "    response = requests.get(baseURL)\n",
    "\n",
    "    if response.status_code == 200:\n",
    "        myDict = {}\n",
    "        data = response.json()['list']\n",
    "        dayCount, i = 0, 0\n",
    "        print(f\"Weather Forecast of {city}, every 3 hour:\")\n",
    "        while dayCount != n_day+1 and i < len(data):\n",
    "            day_i = data[i]\n",
    "            today = day_i['dt_txt'].split()[0]\n",
    "            hourNow = day_i['dt_txt'].split()[1][:-3]\n",
    "            today = datetime.datetime.strptime(today, \"%Y-%m-%d\").strftime(\"%a, %d %b %Y\")\n",
    "            if today not in myDict:\n",
    "                dayCount += 1\n",
    "                if dayCount == n_day + 1:\n",
    "                    continue\n",
    "                \n",
    "                print(today)\n",
    "                myDict[today] = [[],[], []]\n",
    "\n",
    "            temp = round(day_i['main']['temp'] - 273.15, 2)\n",
    "            likelyWill = day_i['weather'][0]['main']\n",
    "            exactlyIs = day_i['weather'][0]['description']\n",
    "            print(f\"\\t{hourNow}\") \n",
    "            print(f\"\\t   the temperature is around {temp}°C, likely will {likelyWill}({exactlyIs}).\")\n",
    "            \n",
    "            myDict[today][0].append(temp)\n",
    "            myDict[today][1].append(likelyWill)\n",
    "            myDict[today][2].append(exactlyIs)\n",
    "            i += 1\n",
    "        return myDict\n",
    "    else:\n",
    "        print(\"Please try again later\")\n",
    "        print(f\"Error caused by {response.json()['message']}\")"
   ]
  },
  {
   "cell_type": "code",
   "execution_count": 2,
   "metadata": {},
   "outputs": [
    {
     "name": "stdout",
     "output_type": "stream",
     "text": [
      "Weather Forecast of Jakarta:\n",
      "Fri, 25 Nov 2022: 27.73°C, mostly will overcast clouds.\n",
      "Sat, 26 Nov 2022: 27.75°C, mostly will overcast clouds.\n",
      "Sun, 27 Nov 2022: 28.68°C, mostly will light rain.\n",
      "Mon, 28 Nov 2022: 27.91°C, mostly will light rain.\n",
      "Tue, 29 Nov 2022: 28.44°C, mostly will light rain.\n",
      "Wed, 30 Nov 2022: 27.81°C, mostly will light rain.\n"
     ]
    }
   ],
   "source": [
    "dailyForecast = getDailyForecast(\"Jakarta\")"
   ]
  },
  {
   "cell_type": "code",
   "execution_count": 3,
   "metadata": {},
   "outputs": [
    {
     "name": "stdout",
     "output_type": "stream",
     "text": [
      "Weather Forecast of Jakarta, every 3 hour:\n",
      "Fri, 25 Nov 2022\n",
      "\t15:00\n",
      "\t   the temperature is around 28.04°C, likely will Rain(light rain).\n",
      "\t18:00\n",
      "\t   the temperature is around 27.73°C, likely will Clouds(overcast clouds).\n",
      "\t21:00\n",
      "\t   the temperature is around 27.43°C, likely will Clouds(overcast clouds).\n",
      "Sat, 26 Nov 2022\n",
      "\t00:00\n",
      "\t   the temperature is around 27.34°C, likely will Clouds(overcast clouds).\n",
      "\t03:00\n",
      "\t   the temperature is around 27.84°C, likely will Clouds(overcast clouds).\n",
      "\t06:00\n",
      "\t   the temperature is around 28.82°C, likely will Clouds(overcast clouds).\n",
      "\t09:00\n",
      "\t   the temperature is around 28.36°C, likely will Rain(light rain).\n",
      "\t12:00\n",
      "\t   the temperature is around 28.47°C, likely will Rain(light rain).\n",
      "\t15:00\n",
      "\t   the temperature is around 27.69°C, likely will Clouds(overcast clouds).\n",
      "\t18:00\n",
      "\t   the temperature is around 26.89°C, likely will Clouds(overcast clouds).\n",
      "\t21:00\n",
      "\t   the temperature is around 26.6°C, likely will Clouds(overcast clouds).\n"
     ]
    }
   ],
   "source": [
    "hourlyForecast = getHourlyForecast(\"Jakarta\", 2)"
   ]
  },
  {
   "cell_type": "code",
   "execution_count": null,
   "metadata": {},
   "outputs": [],
   "source": []
  }
 ],
 "metadata": {
  "kernelspec": {
   "display_name": "Python 3.10.8 64-bit",
   "language": "python",
   "name": "python3"
  },
  "language_info": {
   "codemirror_mode": {
    "name": "ipython",
    "version": 3
   },
   "file_extension": ".py",
   "mimetype": "text/x-python",
   "name": "python",
   "nbconvert_exporter": "python",
   "pygments_lexer": "ipython3",
   "version": "3.10.8"
  },
  "orig_nbformat": 4,
  "vscode": {
   "interpreter": {
    "hash": "df95319d8ce4e1d89f5365ae10992bc1f65da593082b1d264e8f529830ec2f02"
   }
  }
 },
 "nbformat": 4,
 "nbformat_minor": 2
}
