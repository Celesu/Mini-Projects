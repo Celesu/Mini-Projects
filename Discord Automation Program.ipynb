{
 "cells": [
  {
   "cell_type": "markdown",
   "metadata": {},
   "source": [
    "## Discord Automation \n",
    "$\n",
    "\\text{\\small{(sounds illegal, learning purpose only hehe)}}\n",
    "$\n",
    "\n",
    "First, import the libraries you'll need. I added \"random\" just to avoid constant grabbing time, randomize it, so it may looks natural (even if it's not actually).\n",
    "\n",
    "Also, there's a file, webserver, that I found on youtube, [here](https://www.youtube.com/watch?v=GBwNQImv9Ek) and if you wanna learn from start, you can try it from [here](https://www.youtube.com/watch?v=xh28F6f-Cds) (it's the tutorial that helped me to create the Discord automation program)."
   ]
  },
  {
   "cell_type": "code",
   "execution_count": null,
   "metadata": {},
   "outputs": [],
   "source": [
    "import requests\n",
    "import os\n",
    "import json\n",
    "import time\n",
    "\n",
    "import random\n",
    "\n",
    "from webserver import keep_alive\n"
   ]
  },
  {
   "cell_type": "markdown",
   "metadata": {},
   "source": [
    "Then, create variables called \"acc_token\" and \"ch_id\" that contain your account token and the id of the channel that you'll use, respectively. You can find your account token by following the steps in the video that I've linked before.\n",
    "\n",
    "After that, you can define some definitions to retrieve messages and add reactions since the bot will drop the cards and put some reactions on them (there's a button feature, but now I only show you for the reaction case). The url is Discord's default url. The difference is only in the channel id for each channel you entered.\n",
    "\n",
    "In \"retrieve_messages\" definition, I put a \"while\" loop if the status_code is equal to 429. That means there are too much requests in the request library, so to avoid the thing, I'm using \"os.system(\"kill 1\")\" and requesting it again until the status_code turns to 200 (they accept my request).\n",
    "\n"
   ]
  },
  {
   "cell_type": "code",
   "execution_count": null,
   "metadata": {},
   "outputs": [],
   "source": [
    "acc_token = os.environ['acc']\n",
    "ch_id = os.environ['ch']\n",
    "\n",
    "def retrieve_messages(acc_token=acc_token, ch_id=ch_id):\n",
    "    msg_url = f\"https://discord.com/api/v9/channels/{ch_id}/messages\"\n",
    "    r = requests.get(f'{msg_url}', headers={'authorization':acc_token})\n",
    "    while r.status_code == 429:\n",
    "      os.system(\"kill 1\")\n",
    "      r = requests.get(f'{msg_url}', headers={'authorization':acc_token})\n",
    "    jsonn = json.loads(r.text)\n",
    "    return jsonn\n",
    "\n",
    "def add_reaction(msg_id, emoji, acc_token=acc_token):\n",
    "   msg_url = f\"https://discord.com/api/v9/channels/{ch_id}/messages\"\n",
    "   requests.put(f'{msg_url}/{msg_id}/reactions/{emoji}/%40me', headers={'authorization':acc_token})\n"
   ]
  },
  {
   "cell_type": "markdown",
   "metadata": {},
   "source": [
    "Now, come to the main code. My program works by retrieving messages indefinitely. By reading the content message, my program will differ if the message is the message that I'm looking for. If it's the message, then the cards that the bot just dropped (the bot will drop 3 cards) may contain a high wishlist (pog) card, so I'll take the chance to grab it. Since my server has a bot that will remind you if there's a pog card or not, I added a feature to notice the things too.\n",
    "\n",
    "Every card the bot drops will expire (you won't be able to receive the card or the other items anymore) in a minute and will be dropped in roughly 3 minutes.Since the goal of this program is to obtain the watermelon (an event feature of the bot), I let my program stop for around 4 seconds before reading the message once more to allow the bot to add reactions to the message. I do this by using the time.sleep(x second) command. Is there a watermelon reaction being added to it by the bot or not? My program will be able to tell if the number of message reactions is four (or more than three), or just three. If there are four, then there's a watermelon on it, then my program will grabit for me.\n",
    "\n",
    "After grabbing the watermelon, I let my bot sleep for a minute, waited for the message to expire, then read the new message again until the bot dropped the cards again :)"
   ]
  },
  {
   "cell_type": "code",
   "execution_count": null,
   "metadata": {},
   "outputs": [],
   "source": [
    "keep_alive()    # the function of webserver library, to keep my program running\n",
    "\n",
    "\n",
    "while True:\n",
    "    msg=retrieve_messages()[:2] # Get only two most recent messages\n",
    "    pog = 0\n",
    "    \n",
    "    for index, current_msg in enumerate(msg):\n",
    "        if 'dropping 3' in current_msg['content']:\n",
    "            time.sleep(random.uniform(1,1.5))\n",
    "            current_msg = retrieve_messages()[0]\n",
    "\n",
    "            # Is ther a pog or not?\n",
    "            if 'Card no' in current_msg['content']:\n",
    "                print('pog detected')\n",
    "                emoji = current_msg['content'].split()[3]\n",
    "                time.sleep(random.uniform(0.2,0.4))\n",
    "                the_msg = retrieve_messages()[1]\n",
    "                add_reaction(the_msg['id'], emoji)\n",
    "                pog = 1\n",
    "            \n",
    "            if pog == 1:    # if there's a pog card\n",
    "                time.sleep(2)   # to wait the reactions fully reacted by the bot\n",
    "                current_msg = retrieve_messages()[2]    # there will be a msg after I grabbed the card, that's why I get the 3rd msg instead\n",
    "                if 'Extra Grab' in current_msg['content']:  # if my acc use an extra grab\n",
    "                    current_msg = retrieve_messages()[3]\n",
    "            else:   # if no pog detected\n",
    "                time.sleep(3)   # to wait the reactions fully reacted by the bot\n",
    "                current_msg = retrieve_messages()[0]\n",
    "\n",
    "            try:\n",
    "                current_msg['reactions']\n",
    "            except:\n",
    "                pass\n",
    "            else:\n",
    "                # if there are a watermelon in the reactions,  the length of\n",
    "                # the reactions should be more than 3, since my server don't have\n",
    "                # any blessing (the bot feature to let the bot drop 4 cards instead of 3).\n",
    "                if len(current_msg['reactions']) > 3:\n",
    "                    print('suika ga aru!')  # it means, there's a watermelon, but in weebs' language hehe\n",
    "                    emoji = current_msg['reactions'][-1]['emoji']['name']\n",
    "                    add_reaction(current_msg['id'], emoji)\n",
    "            time.sleep(60)  # the message will expired after 60, and the bot will drop again after around 3 minutes\n",
    "\n",
    "\n",
    "    time.sleep(2)   # the cooldown of my program to read messages\n",
    "\n",
    "\n",
    "# Fin~"
   ]
  },
  {
   "cell_type": "markdown",
   "metadata": {},
   "source": [
    "If you wanna let your code running, try to use [replit](https://replit.com/) (not for commercial purpose) and [uptimerobot](https://uptimerobot.com/) to maintain it.\n",
    "\n",
    "Thanks for your attention!\n",
    "\n",
    "Enjoy!"
   ]
  }
 ],
 "metadata": {
  "kernelspec": {
   "display_name": "Python 3.9.0 64-bit",
   "language": "python",
   "name": "python3"
  },
  "language_info": {
   "codemirror_mode": {
    "name": "ipython",
    "version": 3
   },
   "file_extension": ".py",
   "mimetype": "text/x-python",
   "name": "python",
   "nbconvert_exporter": "python",
   "pygments_lexer": "ipython3",
   "version": "3.9.0"
  },
  "orig_nbformat": 4,
  "vscode": {
   "interpreter": {
    "hash": "1d5c1156327dacead463cc502c55ebae8ce9c8c01979cf154173ff808e75bf55"
   }
  }
 },
 "nbformat": 4,
 "nbformat_minor": 2
}
